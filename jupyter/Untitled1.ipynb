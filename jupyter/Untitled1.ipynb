{
 "cells": [
  {
   "cell_type": "code",
   "execution_count": 32,
   "metadata": {},
   "outputs": [
    {
     "name": "stdout",
     "output_type": "stream",
     "text": [
      "[1, 1, 3, 4, 6, 6, 7, 7, 9, 9]\n"
     ]
    }
   ],
   "source": [
    "A=[7,9,1,6,3,7,6,4,9,1]\n",
    "def bubbleSort(x):\n",
    "    for i in range(0,10,1):\n",
    "        for j in range(i+1,10,1):\n",
    "                if x[i]>x[j]:\n",
    "                    z=x[i]\n",
    "                    x[i]=x[j]\n",
    "                    x[j]=z\n",
    "                #print(x)\n",
    "    return(x)\n",
    "    del A[2]\n",
    "print (bubbleSort(A))\n"
   ]
  },
  {
   "cell_type": "code",
   "execution_count": null,
   "metadata": {},
   "outputs": [],
   "source": []
  },
  {
   "cell_type": "code",
   "execution_count": null,
   "metadata": {},
   "outputs": [],
   "source": []
  }
 ],
 "metadata": {
  "kernelspec": {
   "display_name": "Python 3",
   "language": "python",
   "name": "python3"
  },
  "language_info": {
   "codemirror_mode": {
    "name": "ipython",
    "version": 3
   },
   "file_extension": ".py",
   "mimetype": "text/x-python",
   "name": "python",
   "nbconvert_exporter": "python",
   "pygments_lexer": "ipython3",
   "version": "3.6.3"
  }
 },
 "nbformat": 4,
 "nbformat_minor": 2
}
