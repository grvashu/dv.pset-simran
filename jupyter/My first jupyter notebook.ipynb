{
 "cells": [
  {
   "cell_type": "code",
   "execution_count": null,
   "metadata": {},
   "outputs": [],
   "source": []
  },
  {
   "cell_type": "code",
   "execution_count": 24,
   "metadata": {},
   "outputs": [],
   "source": [
    "M=[6,4,2,9,5]\n",
    "def insertionSort():\n",
    "    for i in range (1,5,1):\n",
    "        for j in range (0,i,1):\n",
    "            if (M[j]>M[i]):\n",
    "                pos=j\n",
    "                take=M[i]\n",
    "                for k in range(i,pos,-1):\n",
    "                    M[k]=M[k-1]\n",
    "            M[pos]=take\n",
    "        print (M)"
   ]
  },
  {
   "cell_type": "code",
   "execution_count": 25,
   "metadata": {},
   "outputs": [
    {
     "name": "stdout",
     "output_type": "stream",
     "text": [
      "[4, 6, 2, 9, 5]\n",
      "[2, 4, 6, 9, 5]\n",
      "[2, 4, 6, 9, 5]\n",
      "[2, 4, 5, 6, 9]\n"
     ]
    }
   ],
   "source": [
    "insertionSort()"
   ]
  },
  {
   "cell_type": "code",
   "execution_count": null,
   "metadata": {},
   "outputs": [],
   "source": []
  }
 ],
 "metadata": {
  "kernelspec": {
   "display_name": "Python 3",
   "language": "python",
   "name": "python3"
  },
  "language_info": {
   "codemirror_mode": {
    "name": "ipython",
    "version": 3
   },
   "file_extension": ".py",
   "mimetype": "text/x-python",
   "name": "python",
   "nbconvert_exporter": "python",
   "pygments_lexer": "ipython3",
   "version": "3.6.3"
  }
 },
 "nbformat": 4,
 "nbformat_minor": 2
}
